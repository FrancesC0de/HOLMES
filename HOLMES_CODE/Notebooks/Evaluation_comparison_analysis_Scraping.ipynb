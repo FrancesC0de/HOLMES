{
 "cells": [
  {
   "cell_type": "markdown",
   "metadata": {
    "id": "rg5l3jZ-9J5Y"
   },
   "source": [
    "Import libraries"
   ]
  },
  {
   "cell_type": "code",
   "execution_count": 1,
   "metadata": {
    "id": "XTRVh8zH9Ir5"
   },
   "outputs": [],
   "source": [
    "import os\n",
    "import json\n",
    "import numpy as np\n",
    "import seaborn as sns\n",
    "import matplotlib.pyplot as plt\n",
    "from matplotlib.lines import Line2D\n",
    "from matplotlib.patches import Patch\n",
    "import plotly.graph_objs as go\n",
    "from IPython.display import Image"
   ]
  },
  {
   "cell_type": "markdown",
   "metadata": {
    "id": "MdC1BIPyCwfh"
   },
   "source": [
    "**EVALUATION**"
   ]
  },
  {
   "cell_type": "markdown",
   "metadata": {
    "id": "VRvLpthRxRh8"
   },
   "source": [
    "**Load the Causal metrics AUC values and analyze them**"
   ]
  },
  {
   "cell_type": "code",
   "execution_count": 5,
   "metadata": {
    "cellView": "form",
    "id": "DPRCLJHECzGi"
   },
   "outputs": [],
   "source": [
    "#@title\n",
    "# load the Causal metrics AUC curves results\n",
    "with open('../Scraping_curves.json') as json_file: \n",
    "  curves_dict = json.load(json_file)\n",
    "\n",
    "# intermediate dictionaries to record\n",
    "holmes_deletion_auc_dict = {}\n",
    "holmes_insertion_auc_dict = {}\n",
    "holmes_preservation_auc_dict = {}\n",
    "gradcam_deletion_auc_dict = {}\n",
    "gradcam_insertion_auc_dict = {}\n",
    "gradcam_preservation_auc_dict = {}\n",
    "pred_class_dict = {}\n",
    "num_pred_dict = {}\n",
    "\n",
    "holonyms = list(curves_dict.keys())\n",
    "for i, holonym in enumerate(holonyms):\n",
    "  holonym_dict = curves_dict[holonym]      # holonym class dict\n",
    "  holonym_img_names = curves_dict[holonym]['curves'].keys() # VOC validation images for the holonym\n",
    "\n",
    "  for j, img_name in enumerate(holonym_img_names):\n",
    "    if j == 0:\n",
    "        holmes_deletion_auc_dict[holonym] = []\n",
    "        holmes_insertion_auc_dict[holonym] = []\n",
    "        holmes_preservation_auc_dict[holonym] = []\n",
    "        gradcam_deletion_auc_dict[holonym] = []\n",
    "        gradcam_insertion_auc_dict[holonym] = []\n",
    "        gradcam_preservation_auc_dict[holonym] = []        \n",
    "        pred_class_dict[holonym] = []\n",
    "        num_pred_dict[holonym] = 0\n",
    "    elif j>=50:\n",
    "      break\n",
    "    \n",
    "    img_pred_class = holonym_dict['curves'][img_name]['pred_class']\n",
    "\n",
    "    # list of pred values\n",
    "    pred_class_dict[holonym].append(img_pred_class)\n",
    "    # check if the class prediction is correct, i.e. it is equal to the holonym class\n",
    "    if img_pred_class != holonym:\n",
    "        continue\n",
    "\n",
    "    #print(\"{} -> {}\".format(img_pred_class, holonym))\n",
    "    \n",
    "    num_pred_dict[holonym] += 1\n",
    "    # holmes\n",
    "    img_holmes_deletion_auc = holonym_dict['curves'][img_name]['holmes_deletion']\n",
    "    img_holmes_insertion_auc = holonym_dict['curves'][img_name]['holmes_insertion']\n",
    "    img_holmes_preservation_auc = holonym_dict['curves'][img_name]['holmes_preservation']\n",
    "    # list of aucs\n",
    "    holmes_deletion_auc_dict[holonym].append(img_holmes_deletion_auc)\n",
    "    holmes_insertion_auc_dict[holonym].append(img_holmes_insertion_auc)\n",
    "    holmes_preservation_auc_dict[holonym].append(img_holmes_preservation_auc)\n",
    "    # gradcam    \n",
    "    img_gradcam_deletion_auc = holonym_dict['curves'][img_name]['gradcam_deletion']\n",
    "    img_gradcam_insertion_auc = holonym_dict['curves'][img_name]['gradcam_insertion']\n",
    "    img_gradcam_preservation_auc = holonym_dict['curves'][img_name]['gradcam_preservation']\n",
    "    # list of aucs\n",
    "    gradcam_deletion_auc_dict[holonym].append(img_gradcam_deletion_auc)\n",
    "    gradcam_insertion_auc_dict[holonym].append(img_gradcam_insertion_auc)\n",
    "    gradcam_preservation_auc_dict[holonym].append(img_gradcam_preservation_auc)"
   ]
  },
  {
   "cell_type": "code",
   "execution_count": 6,
   "metadata": {},
   "outputs": [
    {
     "data": {
      "text/plain": [
       "{'sorrel': 47,\n",
       " 'zebra': 45,\n",
       " 'hog': 26,\n",
       " 'ox': 25,\n",
       " 'water buffalo': 43,\n",
       " 'bison': 43,\n",
       " 'ram': 32,\n",
       " 'ibex': 43,\n",
       " 'Arabian camel': 46,\n",
       " 'tabby': 30,\n",
       " 'tiger cat': 10,\n",
       " 'Persian cat': 44,\n",
       " 'Siamese cat': 47,\n",
       " 'Egyptian cat': 23,\n",
       " 'cougar': 42,\n",
       " 'lynx': 34,\n",
       " 'leopard': 39,\n",
       " 'snow leopard': 44,\n",
       " 'jaguar': 34,\n",
       " 'lion': 47,\n",
       " 'tiger': 46,\n",
       " 'cheetah': 45,\n",
       " 'loggerhead': 38,\n",
       " 'leatherback turtle': 25,\n",
       " 'mud turtle': 28,\n",
       " 'terrapin': 25,\n",
       " 'box turtle': 40,\n",
       " 'common iguana': 40,\n",
       " 'American alligator': 37,\n",
       " 'rock python': 25,\n",
       " 'diamondback': 33,\n",
       " 'sidewinder': 17,\n",
       " 'dishwasher': 30,\n",
       " 'Dutch oven': 36,\n",
       " 'microwave': 26,\n",
       " 'rotisserie': 41,\n",
       " 'stove': 21,\n",
       " 'toaster': 27,\n",
       " 'broom': 31,\n",
       " 'hammer': 23,\n",
       " 'hatchet': 23,\n",
       " 'power drill': 15,\n",
       " 'screw': 44,\n",
       " 'screwdriver': 16,\n",
       " 'shovel': 30,\n",
       " 'airliner': 48,\n",
       " 'ambulance': 46,\n",
       " 'barrow': 36,\n",
       " 'beach wagon': 27,\n",
       " 'bicycle-built-for-two': 40,\n",
       " 'cab': 37,\n",
       " 'convertible': 40,\n",
       " 'fire engine': 41,\n",
       " 'freight car': 49,\n",
       " 'garbage truck': 45,\n",
       " 'horse cart': 42,\n",
       " 'jeep': 42,\n",
       " 'jinrikisha': 46,\n",
       " 'limousine': 37,\n",
       " 'minibus': 38,\n",
       " 'minivan': 23,\n",
       " 'mobile home': 35,\n",
       " 'Model T': 46,\n",
       " 'moped': 33,\n",
       " 'motor scooter': 42,\n",
       " 'mountain bike': 35,\n",
       " 'moving van': 23,\n",
       " 'oxcart': 38,\n",
       " 'passenger car': 26,\n",
       " 'pickup': 35,\n",
       " 'police van': 36,\n",
       " 'racer': 34,\n",
       " 'school bus': 45,\n",
       " 'shopping cart': 40,\n",
       " 'sports car': 27,\n",
       " 'streetcar': 42,\n",
       " 'tow truck': 28,\n",
       " 'tractor': 37,\n",
       " 'trailer truck': 36,\n",
       " 'trolleybus': 48,\n",
       " 'unicycle': 40}"
      ]
     },
     "execution_count": 6,
     "metadata": {},
     "output_type": "execute_result"
    }
   ],
   "source": [
    "num_pred_dict"
   ]
  },
  {
   "cell_type": "markdown",
   "metadata": {
    "id": "MdC1BIPyCwfh"
   },
   "source": [
    "**Calculate average of the causal metrics separately for each holonym -> for each holonym the number or correctly predicted images is different**"
   ]
  },
  {
   "cell_type": "code",
   "execution_count": 7,
   "metadata": {},
   "outputs": [],
   "source": [
    "# calculate average of the causal metrics separately for each holonym\n",
    "holmes_holonyms_avg_deletion = {}\n",
    "holmes_holonyms_avg_insertion = {}\n",
    "holmes_holonyms_avg_preservation = {}\n",
    "gradcam_holonyms_avg_deletion = {}\n",
    "gradcam_holonyms_avg_insertion = {}\n",
    "gradcam_holonyms_avg_preservation = {}\n",
    "\n",
    "ratio_holonyms_avg_deletion = {}\n",
    "ratio_holonyms_avg_insertion = {}\n",
    "ratio_holonyms_avg_preservation = {}\n",
    "\n",
    "for i, holonym in enumerate(holonyms):\n",
    "    holmes_holonyms_avg_deletion[holonym] = np.mean(holmes_deletion_auc_dict[holonym])\n",
    "    holmes_holonyms_avg_insertion[holonym] = np.mean(holmes_insertion_auc_dict[holonym])\n",
    "    holmes_holonyms_avg_preservation[holonym] = np.mean(holmes_preservation_auc_dict[holonym])\n",
    "    \n",
    "    gradcam_holonyms_avg_deletion[holonym] = np.mean(gradcam_deletion_auc_dict[holonym])\n",
    "    gradcam_holonyms_avg_insertion[holonym] = np.mean(gradcam_insertion_auc_dict[holonym])\n",
    "    gradcam_holonyms_avg_preservation[holonym] = np.mean(gradcam_preservation_auc_dict[holonym])\n",
    "    \n",
    "    ratio_holonyms_avg_deletion[holonym] = holmes_holonyms_avg_deletion[holonym] / gradcam_holonyms_avg_deletion[holonym]\n",
    "    ratio_holonyms_avg_insertion[holonym] = holmes_holonyms_avg_insertion[holonym] / gradcam_holonyms_avg_insertion[holonym]\n",
    "    ratio_holonyms_avg_preservation[holonym] = holmes_holonyms_avg_preservation[holonym] / gradcam_holonyms_avg_preservation[holonym]"
   ]
  },
  {
   "cell_type": "markdown",
   "metadata": {
    "id": "MdC1BIPyCwfh"
   },
   "source": [
    "Show results"
   ]
  },
  {
   "cell_type": "code",
   "execution_count": 8,
   "metadata": {},
   "outputs": [
    {
     "data": {
      "text/plain": [
       "{'sorrel': 0.1788568753864559,\n",
       " 'zebra': 0.3235304857537822,\n",
       " 'hog': 0.07863968808115188,\n",
       " 'ox': 0.06686587047758277,\n",
       " 'water buffalo': 0.057237970505203115,\n",
       " 'bison': 0.1041065255210227,\n",
       " 'ram': 0.08841589420561692,\n",
       " 'ibex': 0.13786895285832276,\n",
       " 'Arabian camel': 0.15041375001077867,\n",
       " 'tabby': 0.07858345881933117,\n",
       " 'tiger cat': 0.03167404011852141,\n",
       " 'Persian cat': 0.05146179181373684,\n",
       " 'Siamese cat': 0.1900172070826516,\n",
       " 'Egyptian cat': 0.07017569440025463,\n",
       " 'cougar': 0.19533414648455713,\n",
       " 'lynx': 0.09533543404778856,\n",
       " 'leopard': 0.27996903228427905,\n",
       " 'snow leopard': 0.21169721518390866,\n",
       " 'jaguar': 0.19236244588444887,\n",
       " 'lion': 0.11831371277137172,\n",
       " 'tiger': 0.10346877702388645,\n",
       " 'cheetah': 0.23829859589022115,\n",
       " 'loggerhead': 0.0879096262007268,\n",
       " 'leatherback turtle': 0.20259215657052498,\n",
       " 'mud turtle': 0.053020452099294034,\n",
       " 'terrapin': 0.07417269433582128,\n",
       " 'box turtle': 0.08934111208963169,\n",
       " 'common iguana': 0.11838588484333323,\n",
       " 'American alligator': 0.08072054509850127,\n",
       " 'rock python': 0.05771584180196612,\n",
       " 'diamondback': 0.1557093757816978,\n",
       " 'sidewinder': 0.1478428528852381,\n",
       " 'dishwasher': 0.0854946446584404,\n",
       " 'Dutch oven': 0.09612101775950749,\n",
       " 'microwave': 0.064585872581576,\n",
       " 'rotisserie': 0.13809033113916683,\n",
       " 'stove': 0.058143597660709784,\n",
       " 'toaster': 0.0911080512436217,\n",
       " 'broom': 0.14918036911111324,\n",
       " 'hammer': 0.06728293973812698,\n",
       " 'hatchet': 0.1326940869033545,\n",
       " 'power drill': 0.037908925002584436,\n",
       " 'screw': 0.22840394063985786,\n",
       " 'screwdriver': 0.022920146751082195,\n",
       " 'shovel': 0.15368223812414772,\n",
       " 'airliner': 0.06827576375751519,\n",
       " 'ambulance': 0.14346875326989417,\n",
       " 'barrow': 0.09313108666553406,\n",
       " 'beach wagon': 0.040321049745945164,\n",
       " 'bicycle-built-for-two': 0.09007720913057433,\n",
       " 'cab': 0.09923600391746246,\n",
       " 'convertible': 0.058764152099719594,\n",
       " 'fire engine': 0.09738438195108787,\n",
       " 'freight car': 0.25214801296417544,\n",
       " 'garbage truck': 0.10200410616314241,\n",
       " 'horse cart': 0.10055404115197776,\n",
       " 'jeep': 0.08284912359818791,\n",
       " 'jinrikisha': 0.12909378243886585,\n",
       " 'limousine': 0.055507640204403276,\n",
       " 'minibus': 0.05391777786705112,\n",
       " 'minivan': 0.10222802098106637,\n",
       " 'mobile home': 0.07134003614986653,\n",
       " 'Model T': 0.12019531153121339,\n",
       " 'moped': 0.08733357897538678,\n",
       " 'motor scooter': 0.12490107809338495,\n",
       " 'mountain bike': 0.058216464568832435,\n",
       " 'moving van': 0.05753246253743644,\n",
       " 'oxcart': 0.11978472765915793,\n",
       " 'passenger car': 0.06759238791363217,\n",
       " 'pickup': 0.04641224791428052,\n",
       " 'police van': 0.10729578812855073,\n",
       " 'racer': 0.06376307724316876,\n",
       " 'school bus': 0.12486211360878112,\n",
       " 'shopping cart': 0.14679910202846203,\n",
       " 'sports car': 0.06529989048970986,\n",
       " 'streetcar': 0.13832451635297988,\n",
       " 'tow truck': 0.057111325802575795,\n",
       " 'tractor': 0.0821262685563412,\n",
       " 'trailer truck': 0.0375513210342215,\n",
       " 'trolleybus': 0.06069266831528616,\n",
       " 'unicycle': 0.06292042993535937}"
      ]
     },
     "execution_count": 8,
     "metadata": {},
     "output_type": "execute_result"
    }
   ],
   "source": [
    "holmes_holonyms_avg_deletion"
   ]
  },
  {
   "cell_type": "code",
   "execution_count": 9,
   "metadata": {},
   "outputs": [
    {
     "data": {
      "text/plain": [
       "{'sorrel': 0.8089227119733254,\n",
       " 'zebra': 0.8900916536978495,\n",
       " 'hog': 0.5788985227231117,\n",
       " 'ox': 0.5086615552628575,\n",
       " 'water buffalo': 0.6992599136882165,\n",
       " 'bison': 0.7542038073707746,\n",
       " 'ram': 0.5136866488598962,\n",
       " 'ibex': 0.7385598171121972,\n",
       " 'Arabian camel': 0.7632697822044122,\n",
       " 'tabby': 0.39939387652334507,\n",
       " 'tiger cat': 0.41979282945181434,\n",
       " 'Persian cat': 0.8092036519674999,\n",
       " 'Siamese cat': 0.8499339513840583,\n",
       " 'Egyptian cat': 0.546566245910625,\n",
       " 'cougar': 0.8026676241095922,\n",
       " 'lynx': 0.7466296485708007,\n",
       " 'leopard': 0.7527205382770789,\n",
       " 'snow leopard': 0.7800717740250456,\n",
       " 'jaguar': 0.7752044839651118,\n",
       " 'lion': 0.7533129522811851,\n",
       " 'tiger': 0.6810440677178322,\n",
       " 'cheetah': 0.8329925892815554,\n",
       " 'loggerhead': 0.5297180722023783,\n",
       " 'leatherback turtle': 0.47598388877629444,\n",
       " 'mud turtle': 0.48388393075422836,\n",
       " 'terrapin': 0.7127776239454371,\n",
       " 'box turtle': 0.641866957972511,\n",
       " 'common iguana': 0.7218249756135175,\n",
       " 'American alligator': 0.6478637528601434,\n",
       " 'rock python': 0.299181114567225,\n",
       " 'diamondback': 0.6859928383954134,\n",
       " 'sidewinder': 0.36677898660907204,\n",
       " 'dishwasher': 0.5684896084225682,\n",
       " 'Dutch oven': 0.4585269891815722,\n",
       " 'microwave': 0.5661424812991414,\n",
       " 'rotisserie': 0.7475609743403666,\n",
       " 'stove': 0.5720139740454766,\n",
       " 'toaster': 0.7190509248878233,\n",
       " 'broom': 0.635542623287061,\n",
       " 'hammer': 0.4443867497505928,\n",
       " 'hatchet': 0.3437503315200704,\n",
       " 'power drill': 0.4202899112468004,\n",
       " 'screw': 0.8317210309195757,\n",
       " 'screwdriver': 0.31230077606139567,\n",
       " 'shovel': 0.32405235038415486,\n",
       " 'airliner': 0.8022252897525765,\n",
       " 'ambulance': 0.8877921064337461,\n",
       " 'barrow': 0.523916062268943,\n",
       " 'beach wagon': 0.5479970219910529,\n",
       " 'bicycle-built-for-two': 0.6464655569913376,\n",
       " 'cab': 0.7532198487944117,\n",
       " 'convertible': 0.5702374417069007,\n",
       " 'fire engine': 0.8175339989601524,\n",
       " 'freight car': 0.7148774409566903,\n",
       " 'garbage truck': 0.7474781036522893,\n",
       " 'horse cart': 0.56631867992594,\n",
       " 'jeep': 0.6783094344282576,\n",
       " 'jinrikisha': 0.6843879357656347,\n",
       " 'limousine': 0.719338237055911,\n",
       " 'minibus': 0.549122453687392,\n",
       " 'minivan': 0.4676334790855385,\n",
       " 'mobile home': 0.6591906597124614,\n",
       " 'Model T': 0.6321320833073019,\n",
       " 'moped': 0.5016176209624122,\n",
       " 'motor scooter': 0.6557022142103266,\n",
       " 'mountain bike': 0.5855656558967189,\n",
       " 'moving van': 0.48309606871178234,\n",
       " 'oxcart': 0.48388510659625045,\n",
       " 'passenger car': 0.5402035633320884,\n",
       " 'pickup': 0.5192854830795594,\n",
       " 'police van': 0.7891748474210198,\n",
       " 'racer': 0.5526895601848393,\n",
       " 'school bus': 0.9170161885771253,\n",
       " 'shopping cart': 0.7829217922383928,\n",
       " 'sports car': 0.5605648602291459,\n",
       " 'streetcar': 0.6840732901698977,\n",
       " 'tow truck': 0.5505442123540859,\n",
       " 'tractor': 0.5613722770251788,\n",
       " 'trailer truck': 0.6293885692111998,\n",
       " 'trolleybus': 0.7824298963028123,\n",
       " 'unicycle': 0.6421734305427289}"
      ]
     },
     "execution_count": 9,
     "metadata": {},
     "output_type": "execute_result"
    }
   ],
   "source": [
    "holmes_holonyms_avg_insertion"
   ]
  },
  {
   "cell_type": "code",
   "execution_count": 10,
   "metadata": {},
   "outputs": [
    {
     "data": {
      "text/plain": [
       "{'sorrel': 0.5359997760249007,\n",
       " 'zebra': 0.7450769653543279,\n",
       " 'hog': 0.4366945491148736,\n",
       " 'ox': 0.49614576982466935,\n",
       " 'water buffalo': 0.6023677372923487,\n",
       " 'bison': 0.5982522862569518,\n",
       " 'ram': 0.4594801411461487,\n",
       " 'ibex': 0.6600189234775851,\n",
       " 'Arabian camel': 0.7075744923304998,\n",
       " 'tabby': 0.3585220873371279,\n",
       " 'tiger cat': 0.2489387267818151,\n",
       " 'Persian cat': 0.631030503318517,\n",
       " 'Siamese cat': 0.6877257140248123,\n",
       " 'Egyptian cat': 0.47410576214028316,\n",
       " 'cougar': 0.7477912254436968,\n",
       " 'lynx': 0.5608227289845019,\n",
       " 'leopard': 0.6227120432610623,\n",
       " 'snow leopard': 0.6830002004137374,\n",
       " 'jaguar': 0.6263494581583156,\n",
       " 'lion': 0.6192797199119178,\n",
       " 'tiger': 0.5753372937900071,\n",
       " 'cheetah': 0.8121147182076434,\n",
       " 'loggerhead': 0.5042103320014167,\n",
       " 'leatherback turtle': 0.5494176656675264,\n",
       " 'mud turtle': 0.32966482131996994,\n",
       " 'terrapin': 0.6310891929047583,\n",
       " 'box turtle': 0.584641655938027,\n",
       " 'common iguana': 0.6117226160535806,\n",
       " 'American alligator': 0.4899912244421537,\n",
       " 'rock python': 0.22635286080778716,\n",
       " 'diamondback': 0.5600618724842517,\n",
       " 'sidewinder': 0.28633220304536,\n",
       " 'dishwasher': 0.3351948192605896,\n",
       " 'Dutch oven': 0.3720442742063498,\n",
       " 'microwave': 0.3206189561439441,\n",
       " 'rotisserie': 0.5736673333560202,\n",
       " 'stove': 0.39716700919731085,\n",
       " 'toaster': 0.3473317179766285,\n",
       " 'broom': 0.5952138426077853,\n",
       " 'hammer': 0.29881420625126837,\n",
       " 'hatchet': 0.3057608909513008,\n",
       " 'power drill': 0.32696235828435116,\n",
       " 'screw': 0.6710786618948007,\n",
       " 'screwdriver': 0.1470497576467289,\n",
       " 'shovel': 0.2884512041767093,\n",
       " 'airliner': 0.5997517665838968,\n",
       " 'ambulance': 0.7704428523454744,\n",
       " 'barrow': 0.4123764343391581,\n",
       " 'beach wagon': 0.48311128260668207,\n",
       " 'bicycle-built-for-two': 0.5273122323916934,\n",
       " 'cab': 0.5171237925584978,\n",
       " 'convertible': 0.48979352176390256,\n",
       " 'fire engine': 0.614180807322933,\n",
       " 'freight car': 0.46782324712402434,\n",
       " 'garbage truck': 0.7219172286274543,\n",
       " 'horse cart': 0.4738595663966046,\n",
       " 'jeep': 0.5960143147169373,\n",
       " 'jinrikisha': 0.6033151425624762,\n",
       " 'limousine': 0.49787471328803096,\n",
       " 'minibus': 0.4857003067533364,\n",
       " 'minivan': 0.3901424429736462,\n",
       " 'mobile home': 0.4193072883765823,\n",
       " 'Model T': 0.5167981848144686,\n",
       " 'moped': 0.40224839511597754,\n",
       " 'motor scooter': 0.5207314278350759,\n",
       " 'mountain bike': 0.4362696549055832,\n",
       " 'moving van': 0.36844395537137703,\n",
       " 'oxcart': 0.44503254873228504,\n",
       " 'passenger car': 0.3234602263572221,\n",
       " 'pickup': 0.44088323297458654,\n",
       " 'police van': 0.6072167099384536,\n",
       " 'racer': 0.3360406696088681,\n",
       " 'school bus': 0.8263756442708107,\n",
       " 'shopping cart': 0.5937838925645801,\n",
       " 'sports car': 0.3907425443549673,\n",
       " 'streetcar': 0.5162590272573503,\n",
       " 'tow truck': 0.38364742799996926,\n",
       " 'tractor': 0.46326370900806224,\n",
       " 'trailer truck': 0.4127470566046674,\n",
       " 'trolleybus': 0.6325607469105518,\n",
       " 'unicycle': 0.6898653054253175}"
      ]
     },
     "execution_count": 10,
     "metadata": {},
     "output_type": "execute_result"
    }
   ],
   "source": [
    "holmes_holonyms_avg_preservation"
   ]
  },
  {
   "cell_type": "code",
   "execution_count": 11,
   "metadata": {},
   "outputs": [
    {
     "data": {
      "text/plain": [
       "{'sorrel': 1.325843509257508,\n",
       " 'zebra': 1.1122967278955391,\n",
       " 'hog': 1.0491489692951974,\n",
       " 'ox': 0.9672449571978436,\n",
       " 'water buffalo': 0.9654557980636258,\n",
       " 'bison': 1.1726545566783,\n",
       " 'ram': 1.1315415695094146,\n",
       " 'ibex': 1.1693580869921028,\n",
       " 'Arabian camel': 1.1346400560804086,\n",
       " 'tabby': 1.0033937583615686,\n",
       " 'tiger cat': 0.521513736750789,\n",
       " 'Persian cat': 0.9113697778517414,\n",
       " 'Siamese cat': 1.244676313518131,\n",
       " 'Egyptian cat': 0.788025996371343,\n",
       " 'cougar': 1.3863533996028996,\n",
       " 'lynx': 1.1471568058460202,\n",
       " 'leopard': 1.084923551811778,\n",
       " 'snow leopard': 1.0544162687568686,\n",
       " 'jaguar': 0.912927694084193,\n",
       " 'lion': 1.2922949948562952,\n",
       " 'tiger': 0.68302693421605,\n",
       " 'cheetah': 0.9953493576865133,\n",
       " 'loggerhead': 1.1185990101222947,\n",
       " 'leatherback turtle': 1.054268483391286,\n",
       " 'mud turtle': 1.0240516879128394,\n",
       " 'terrapin': 0.9443275201333202,\n",
       " 'box turtle': 0.6960591965121722,\n",
       " 'common iguana': 1.1865861152453303,\n",
       " 'American alligator': 1.070171994223119,\n",
       " 'rock python': 1.4344702012488884,\n",
       " 'diamondback': 0.8061368608967778,\n",
       " 'sidewinder': 1.0806398898344007,\n",
       " 'dishwasher': 0.9119385813114467,\n",
       " 'Dutch oven': 1.0167281824798833,\n",
       " 'microwave': 1.0384341578097287,\n",
       " 'rotisserie': 1.0612575548892178,\n",
       " 'stove': 0.9433043175518568,\n",
       " 'toaster': 1.1206700560012437,\n",
       " 'broom': 1.009557414691412,\n",
       " 'hammer': 1.0934284422686298,\n",
       " 'hatchet': 1.083783074325441,\n",
       " 'power drill': 0.8532164953353131,\n",
       " 'screw': 1.7729796617120341,\n",
       " 'screwdriver': 1.061554758134911,\n",
       " 'shovel': 1.2093872129075685,\n",
       " 'airliner': 0.8941944206648427,\n",
       " 'ambulance': 1.1732037782013773,\n",
       " 'barrow': 1.0693171335554572,\n",
       " 'beach wagon': 0.6772297938347871,\n",
       " 'bicycle-built-for-two': 0.9778024518336835,\n",
       " 'cab': 0.9614283113407026,\n",
       " 'convertible': 0.6354727123935143,\n",
       " 'fire engine': 0.8373135988192232,\n",
       " 'freight car': 1.1017203381049778,\n",
       " 'garbage truck': 0.8040257016353247,\n",
       " 'horse cart': 1.588772846632468,\n",
       " 'jeep': 0.7529497628889805,\n",
       " 'jinrikisha': 0.9165251193574524,\n",
       " 'limousine': 0.9460746295497224,\n",
       " 'minibus': 0.7908876902502481,\n",
       " 'minivan': 0.6947712530471326,\n",
       " 'mobile home': 1.1007543594710425,\n",
       " 'Model T': 0.7770761970478972,\n",
       " 'moped': 0.966100299828556,\n",
       " 'motor scooter': 1.0200433120839973,\n",
       " 'mountain bike': 0.8133555379559713,\n",
       " 'moving van': 0.8625758625114373,\n",
       " 'oxcart': 1.0753899474622335,\n",
       " 'passenger car': 0.8217871199077688,\n",
       " 'pickup': 0.6471738567937121,\n",
       " 'police van': 1.1102142323209676,\n",
       " 'racer': 0.941163312914321,\n",
       " 'school bus': 1.120183546386752,\n",
       " 'shopping cart': 1.2044527187384062,\n",
       " 'sports car': 0.820133937725493,\n",
       " 'streetcar': 1.198018483097276,\n",
       " 'tow truck': 0.7780738664498577,\n",
       " 'tractor': 0.7675633935469844,\n",
       " 'trailer truck': 0.6170219246600477,\n",
       " 'trolleybus': 0.8761866216469705,\n",
       " 'unicycle': 1.0894252749927353}"
      ]
     },
     "execution_count": 11,
     "metadata": {},
     "output_type": "execute_result"
    }
   ],
   "source": [
    "# lower is better\n",
    "ratio_holonyms_avg_deletion"
   ]
  },
  {
   "cell_type": "code",
   "execution_count": 12,
   "metadata": {},
   "outputs": [
    {
     "data": {
      "text/plain": [
       "{'sorrel': 0.9569551517822815,\n",
       " 'zebra': 0.9552173788939696,\n",
       " 'hog': 0.947082629690805,\n",
       " 'ox': 0.9701282773093415,\n",
       " 'water buffalo': 0.9514290318892179,\n",
       " 'bison': 0.9436556777515853,\n",
       " 'ram': 0.9558432275418943,\n",
       " 'ibex': 0.9989226020418729,\n",
       " 'Arabian camel': 0.9832623288897813,\n",
       " 'tabby': 0.9613894337121817,\n",
       " 'tiger cat': 1.0814902255158831,\n",
       " 'Persian cat': 0.9776792681086015,\n",
       " 'Siamese cat': 0.953216967199964,\n",
       " 'Egyptian cat': 0.9748046245578202,\n",
       " 'cougar': 0.9665555286580204,\n",
       " 'lynx': 1.0197286595949,\n",
       " 'leopard': 0.9928451842580255,\n",
       " 'snow leopard': 0.973116362144773,\n",
       " 'jaguar': 1.0057717336179504,\n",
       " 'lion': 0.9366199596153334,\n",
       " 'tiger': 0.9999545153445503,\n",
       " 'cheetah': 1.0025681098170462,\n",
       " 'loggerhead': 0.9635046560590145,\n",
       " 'leatherback turtle': 0.7858008158954358,\n",
       " 'mud turtle': 0.9276117849078388,\n",
       " 'terrapin': 0.977048472247809,\n",
       " 'box turtle': 0.9815384660490303,\n",
       " 'common iguana': 0.98426129336803,\n",
       " 'American alligator': 0.9261716798736445,\n",
       " 'rock python': 0.7892818374339433,\n",
       " 'diamondback': 0.9921108411605949,\n",
       " 'sidewinder': 0.9808833395820342,\n",
       " 'dishwasher': 0.9410547501092673,\n",
       " 'Dutch oven': 0.8371409622888264,\n",
       " 'microwave': 1.0775924500016694,\n",
       " 'rotisserie': 0.9284044643882837,\n",
       " 'stove': 1.0006097590718939,\n",
       " 'toaster': 0.9887661412945608,\n",
       " 'broom': 0.9354889149114745,\n",
       " 'hammer': 0.8498340967375019,\n",
       " 'hatchet': 0.7658656517448281,\n",
       " 'power drill': 0.7403331259328209,\n",
       " 'screw': 0.934623429107658,\n",
       " 'screwdriver': 0.8856333818847895,\n",
       " 'shovel': 0.7577394348473594,\n",
       " 'airliner': 0.9793541289776507,\n",
       " 'ambulance': 0.9953619794891458,\n",
       " 'barrow': 0.8880626392845676,\n",
       " 'beach wagon': 1.0909123005713839,\n",
       " 'bicycle-built-for-two': 0.945144036920492,\n",
       " 'cab': 0.9689067074080289,\n",
       " 'convertible': 0.9801181939542208,\n",
       " 'fire engine': 0.9722350700435952,\n",
       " 'freight car': 0.9260707546998607,\n",
       " 'garbage truck': 0.9510474179733496,\n",
       " 'horse cart': 0.8355342082040229,\n",
       " 'jeep': 1.0961906023460954,\n",
       " 'jinrikisha': 0.9733585878167154,\n",
       " 'limousine': 1.02211432000093,\n",
       " 'minibus': 1.2687068400779795,\n",
       " 'minivan': 0.9593747682232191,\n",
       " 'mobile home': 0.9686144097477252,\n",
       " 'Model T': 0.952304137457682,\n",
       " 'moped': 1.045138713284258,\n",
       " 'motor scooter': 0.9520916825176436,\n",
       " 'mountain bike': 0.9414914252687292,\n",
       " 'moving van': 0.8818222852193437,\n",
       " 'oxcart': 0.8886903180684428,\n",
       " 'passenger car': 0.9491870606994874,\n",
       " 'pickup': 1.0174200617782259,\n",
       " 'police van': 1.0074358845799394,\n",
       " 'racer': 0.8658244285348942,\n",
       " 'school bus': 0.9726124010275539,\n",
       " 'shopping cart': 0.9430211092640219,\n",
       " 'sports car': 0.9876241866146315,\n",
       " 'streetcar': 0.9605692978235353,\n",
       " 'tow truck': 1.02875553423535,\n",
       " 'tractor': 1.0772662788480862,\n",
       " 'trailer truck': 0.9689074180127775,\n",
       " 'trolleybus': 1.0305665594965052,\n",
       " 'unicycle': 0.9217467586875998}"
      ]
     },
     "execution_count": 12,
     "metadata": {},
     "output_type": "execute_result"
    }
   ],
   "source": [
    "# higher is better\n",
    "ratio_holonyms_avg_insertion"
   ]
  },
  {
   "cell_type": "code",
   "execution_count": 13,
   "metadata": {},
   "outputs": [
    {
     "data": {
      "text/plain": [
       "{'sorrel': 0.8936882208675554,\n",
       " 'zebra': 0.9063561332408723,\n",
       " 'hog': 0.9728460082809209,\n",
       " 'ox': 1.0532493999387877,\n",
       " 'water buffalo': 0.9788156512424586,\n",
       " 'bison': 0.9570624145028791,\n",
       " 'ram': 0.9599845307837025,\n",
       " 'ibex': 0.9995675006073697,\n",
       " 'Arabian camel': 0.9333840674662588,\n",
       " 'tabby': 1.061606324201489,\n",
       " 'tiger cat': 1.0431187642748623,\n",
       " 'Persian cat': 1.0571506246054752,\n",
       " 'Siamese cat': 0.904051551952562,\n",
       " 'Egyptian cat': 1.0240268184507546,\n",
       " 'cougar': 0.9546475500634457,\n",
       " 'lynx': 1.0853893181898682,\n",
       " 'leopard': 0.9919619811037721,\n",
       " 'snow leopard': 0.9675755235312489,\n",
       " 'jaguar': 1.0935362040872658,\n",
       " 'lion': 0.8828807445828375,\n",
       " 'tiger': 1.0882984126217863,\n",
       " 'cheetah': 0.9898267849793626,\n",
       " 'loggerhead': 0.9815380946673716,\n",
       " 'leatherback turtle': 0.8382777645623969,\n",
       " 'mud turtle': 1.1345556880517074,\n",
       " 'terrapin': 0.9787952313633849,\n",
       " 'box turtle': 0.9772351094658983,\n",
       " 'common iguana': 0.9870919441128804,\n",
       " 'American alligator': 0.887537900186652,\n",
       " 'rock python': 0.8485611949532972,\n",
       " 'diamondback': 1.0229169535689706,\n",
       " 'sidewinder': 0.9759168796466048,\n",
       " 'dishwasher': 0.9786884166116556,\n",
       " 'Dutch oven': 0.8389376211988799,\n",
       " 'microwave': 1.2070372857118152,\n",
       " 'rotisserie': 0.915213707828866,\n",
       " 'stove': 1.1153873009409982,\n",
       " 'toaster': 0.968261217484073,\n",
       " 'broom': 0.916294723690018,\n",
       " 'hammer': 0.9188296993035939,\n",
       " 'hatchet': 0.7025456319030359,\n",
       " 'power drill': 0.8822219832487859,\n",
       " 'screw': 0.9349775008665908,\n",
       " 'screwdriver': 1.1785528897677042,\n",
       " 'shovel': 0.7309646509644339,\n",
       " 'airliner': 1.0647334650022402,\n",
       " 'ambulance': 1.047362834303954,\n",
       " 'barrow': 0.9272738430481949,\n",
       " 'beach wagon': 1.1977909686382673,\n",
       " 'bicycle-built-for-two': 1.0090813834659136,\n",
       " 'cab': 1.0174850634886126,\n",
       " 'convertible': 1.090733115335045,\n",
       " 'fire engine': 0.9947483656044606,\n",
       " 'freight car': 0.8287679305729208,\n",
       " 'garbage truck': 0.9958060071973869,\n",
       " 'horse cart': 0.8489169632218095,\n",
       " 'jeep': 1.1643049396719727,\n",
       " 'jinrikisha': 0.9743826024608601,\n",
       " 'limousine': 1.0999802048806075,\n",
       " 'minibus': 1.6212475523314567,\n",
       " 'minivan': 1.1703809078813803,\n",
       " 'mobile home': 1.0841865140666989,\n",
       " 'Model T': 0.9682099319953318,\n",
       " 'moped': 1.073654874343878,\n",
       " 'motor scooter': 0.9695642228651583,\n",
       " 'mountain bike': 1.007659142250391,\n",
       " 'moving van': 0.980666457274592,\n",
       " 'oxcart': 0.9779479957428561,\n",
       " 'passenger car': 1.0067240112184335,\n",
       " 'pickup': 1.1114171899671883,\n",
       " 'police van': 0.9518050944581133,\n",
       " 'racer': 0.9152586454392707,\n",
       " 'school bus': 0.9942574385348116,\n",
       " 'shopping cart': 0.9390548550406542,\n",
       " 'sports car': 1.1104161508162553,\n",
       " 'streetcar': 0.9750074646223844,\n",
       " 'tow truck': 1.1380180585792647,\n",
       " 'tractor': 1.2202559125922416,\n",
       " 'trailer truck': 1.2034339405496564,\n",
       " 'trolleybus': 1.1591095722436093,\n",
       " 'unicycle': 0.9775594582088968}"
      ]
     },
     "execution_count": 13,
     "metadata": {},
     "output_type": "execute_result"
    }
   ],
   "source": [
    "# bigger is better\n",
    "ratio_holonyms_avg_preservation"
   ]
  },
  {
   "cell_type": "markdown",
   "metadata": {
    "id": "MdC1BIPyCwfh"
   },
   "source": [
    "**Calculate the average of the causal metrics over all images of all holonyms -> overall evaluation regardless of the number correctly predicted images for each holonym**"
   ]
  },
  {
   "cell_type": "code",
   "execution_count": 14,
   "metadata": {},
   "outputs": [],
   "source": [
    "# calculate the average of the causal metrics over all images of all holonyms\n",
    "holmes_all_deletion = []\n",
    "holmes_all_insertion = []\n",
    "holmes_all_preservation = []\n",
    "gradcam_all_deletion = []\n",
    "gradcam_all_insertion = []\n",
    "gradcam_all_preservation = []\n",
    "\n",
    "for i, holonym in enumerate(holonyms):\n",
    "    holmes_all_deletion.append(holmes_deletion_auc_dict[holonym])\n",
    "    holmes_all_insertion.append(holmes_insertion_auc_dict[holonym])\n",
    "    holmes_all_preservation.append(holmes_preservation_auc_dict[holonym])\n",
    "    \n",
    "    gradcam_all_deletion.append(gradcam_deletion_auc_dict[holonym])\n",
    "    gradcam_all_insertion.append(gradcam_insertion_auc_dict[holonym])\n",
    "    gradcam_all_preservation.append(gradcam_preservation_auc_dict[holonym])\n",
    "    \n",
    "\n",
    "# convert from list of lists to simple list\n",
    "holmes_all_deletion = sum(holmes_all_deletion, [])\n",
    "holmes_all_insertion = sum(holmes_all_insertion, [])\n",
    "holmes_all_preservation = sum(holmes_all_preservation, [])\n",
    "gradcam_all_deletion = sum(gradcam_all_deletion, [])\n",
    "gradcam_all_insertion = sum(gradcam_all_insertion, [])\n",
    "gradcam_all_preservation = sum(gradcam_all_preservation, [])\n",
    "\n",
    "holmes_all_deletion_avg = np.mean(holmes_all_deletion)\n",
    "holmes_all_deletion_std = np.std(holmes_all_deletion)\n",
    "holmes_all_insertion_avg = np.mean(holmes_all_insertion)\n",
    "holmes_all_insertion_std = np.std(holmes_all_insertion)\n",
    "holmes_all_preservation_avg = np.mean(holmes_all_preservation)\n",
    "holmes_all_preservation_std = np.std(holmes_all_preservation)\n",
    "gradcam_all_deletion_avg = np.mean(gradcam_all_deletion)\n",
    "gradcam_all_deletion_std = np.std(gradcam_all_deletion)\n",
    "gradcam_all_insertion_avg = np.mean(gradcam_all_insertion)\n",
    "gradcam_all_insertion_std = np.std(gradcam_all_insertion)\n",
    "gradcam_all_preservation_avg = np.mean(gradcam_all_preservation)\n",
    "gradcam_all_preservation_std = np.std(gradcam_all_preservation)\n",
    "\n",
    "ratio_all_deletion = holmes_all_deletion_avg/gradcam_all_deletion_avg\n",
    "ratio_all_insertion = holmes_all_insertion_avg/gradcam_all_insertion_avg\n",
    "ratio_all_preservation = holmes_all_preservation_avg/gradcam_all_preservation_avg"
   ]
  },
  {
   "cell_type": "markdown",
   "metadata": {
    "id": "MdC1BIPyCwfh"
   },
   "source": [
    "Show results"
   ]
  },
  {
   "cell_type": "code",
   "execution_count": 15,
   "metadata": {},
   "outputs": [
    {
     "name": "stdout",
     "output_type": "stream",
     "text": [
      "Holmes avg deletion: 0.114 +- 0.119\n"
     ]
    }
   ],
   "source": [
    "print(\"Holmes avg deletion: {} +- {}\".format(round(holmes_all_deletion_avg, 3), round(holmes_all_deletion_std, 3)))"
   ]
  },
  {
   "cell_type": "code",
   "execution_count": 16,
   "metadata": {},
   "outputs": [
    {
     "name": "stdout",
     "output_type": "stream",
     "text": [
      "GradCAM avg deletion: 0.111 +- 0.107\n"
     ]
    }
   ],
   "source": [
    "print(\"GradCAM avg deletion: {} +- {}\".format(round(gradcam_all_deletion_avg, 3), round(gradcam_all_deletion_std, 3)))"
   ]
  },
  {
   "cell_type": "code",
   "execution_count": 17,
   "metadata": {},
   "outputs": [
    {
     "name": "stdout",
     "output_type": "stream",
     "text": [
      "Holmes-GradCAM avg deletion ratio: 1.024\n"
     ]
    }
   ],
   "source": [
    "# lower is better\n",
    "print(\"Holmes-GradCAM avg deletion ratio: {}\".format(round(ratio_all_deletion, 3)))"
   ]
  },
  {
   "cell_type": "code",
   "execution_count": 18,
   "metadata": {},
   "outputs": [
    {
     "name": "stdout",
     "output_type": "stream",
     "text": [
      "Holmes avg insertion: 0.659 +- 0.252\n"
     ]
    }
   ],
   "source": [
    "print(\"Holmes avg insertion: {} +- {}\".format(round(holmes_all_insertion_avg, 3), round(holmes_all_insertion_std, 3)))"
   ]
  },
  {
   "cell_type": "code",
   "execution_count": 19,
   "metadata": {},
   "outputs": [
    {
     "name": "stdout",
     "output_type": "stream",
     "text": [
      "GradCAM avg insertion: 0.684 +- 0.242\n"
     ]
    }
   ],
   "source": [
    "print(\"GradCAM avg insertion: {} +- {}\".format(round(gradcam_all_insertion_avg, 3), round(gradcam_all_insertion_std, 3)))"
   ]
  },
  {
   "cell_type": "code",
   "execution_count": 20,
   "metadata": {},
   "outputs": [
    {
     "name": "stdout",
     "output_type": "stream",
     "text": [
      "Holmes-GradCAM avg insertion ratio: 0.963\n"
     ]
    }
   ],
   "source": [
    "# higher is better\n",
    "print(\"Holmes-GradCAM avg insertion ratio: {}\".format(round(ratio_all_insertion, 3)))"
   ]
  },
  {
   "cell_type": "code",
   "execution_count": 21,
   "metadata": {},
   "outputs": [
    {
     "name": "stdout",
     "output_type": "stream",
     "text": [
      "Holmes avg preservation: 0.534 +- 0.257\n"
     ]
    }
   ],
   "source": [
    "print(\"Holmes avg preservation: {} +- {}\".format(round(holmes_all_preservation_avg, 3), round(holmes_all_preservation_std, 3)))"
   ]
  },
  {
   "cell_type": "code",
   "execution_count": 22,
   "metadata": {},
   "outputs": [
    {
     "name": "stdout",
     "output_type": "stream",
     "text": [
      "GradCAM avg preservation: 0.539 +- 0.261\n"
     ]
    }
   ],
   "source": [
    "print(\"GradCAM avg preservation: {} +- {}\".format(round(gradcam_all_preservation_avg, 3), round(gradcam_all_preservation_std, 3)))"
   ]
  },
  {
   "cell_type": "code",
   "execution_count": 23,
   "metadata": {},
   "outputs": [
    {
     "name": "stdout",
     "output_type": "stream",
     "text": [
      "Holmes-GradCAM avg preservation ratio: 0.991\n"
     ]
    }
   ],
   "source": [
    "# higher is better\n",
    "print(\"Holmes-GradCAM avg preservation ratio: {}\".format(round(ratio_all_preservation, 3)))"
   ]
  },
  {
   "cell_type": "code",
   "execution_count": 24,
   "metadata": {},
   "outputs": [],
   "source": [
    "plt.rcParams.update({'font.size': 15})\n",
    "\n",
    "custom_lines = [Line2D([0], [0], color=\"royalblue\", lw=5),\n",
    "                Line2D([0], [0], color=\"darkorange\", lw=5)]\n",
    "\n",
    "def draw_distributions_comparison(dist_values_1, dist_values_2, title_1, title_2, better_str):\n",
    "    x = [title_1, title_2]\n",
    "    mean_dist_1 = (round(np.mean(dist_values_1), 3))\n",
    "    mean_dist_2 = (round(np.mean(dist_values_2), 3))\n",
    "\n",
    "    fig = plt.figure(figsize=(10,9))\n",
    "    ax = sns.violinplot(data=[dist_values_1, dist_values_2])\n",
    "\n",
    "    ax.text(0+0.02, np.mean(dist_values_1)-0.02, \"mean=\" + str(mean_dist_1)+ \"\\n(\"+ better_str + \" is better)\")\n",
    "    ax.text(1+0.02, np.mean(dist_values_2)-0.02, \"mean=\" + str(mean_dist_2)+ \"\\n(\"+ better_str + \" is better)\")\n",
    "\n",
    "    plt.xticks([], )\n",
    "    plt.legend(custom_lines, x, loc='upper right')\n",
    "    plt.title(title_1 + ' and ' + title_2)\n",
    "    plt.show()"
   ]
  },
  {
   "cell_type": "code",
   "execution_count": 25,
   "metadata": {},
   "outputs": [
    {
     "data": {
      "image/png": "[encoded data removed]",
      "text/plain": [
       "<Figure size 720x648 with 1 Axes>"
      ]
     },
     "metadata": {
      "needs_background": "light"
     },
     "output_type": "display_data"
    }
   ],
   "source": [
    "draw_distributions_comparison(holmes_all_deletion, gradcam_all_deletion, 'HOLMES deletion', 'GradCAM deletion', \"lower\")"
   ]
  },
  {
   "cell_type": "code",
   "execution_count": 26,
   "metadata": {},
   "outputs": [
    {
     "data": {
      "image/png": "[encoded data removed]",
      "text/plain": [
       "<Figure size 720x648 with 1 Axes>"
      ]
     },
     "metadata": {
      "needs_background": "light"
     },
     "output_type": "display_data"
    }
   ],
   "source": [
    "draw_distributions_comparison(holmes_all_insertion, gradcam_all_insertion, 'HOLMES insertion', 'GradCAM insertion', \"higher\")"
   ]
  },
  {
   "cell_type": "code",
   "execution_count": 27,
   "metadata": {},
   "outputs": [
    {
     "data": {
      "image/png": "[encoded data removed]",
      "text/plain": [
       "<Figure size 720x648 with 1 Axes>"
      ]
     },
     "metadata": {
      "needs_background": "light"
     },
     "output_type": "display_data"
    }
   ],
   "source": [
    "draw_distributions_comparison(holmes_all_preservation, gradcam_all_preservation, 'HOLMES preservation', 'GradCAM preservation', \"higher\")"
   ]
  },
  {
   "cell_type": "code",
   "execution_count": null,
   "metadata": {},
   "outputs": [],
   "source": []
  }
 ],
 "metadata": {
  "colab": {
   "collapsed_sections": [],
   "name": "Results_analysis.ipynb",
   "provenance": []
  },
  "kernelspec": {
   "display_name": "Python 3",
   "language": "python",
   "name": "python3"
  },
  "language_info": {
   "codemirror_mode": {
    "name": "ipython",
    "version": 3
   },
   "file_extension": ".py",
   "mimetype": "text/x-python",
   "name": "python",
   "nbconvert_exporter": "python",
   "pygments_lexer": "ipython3",
   "version": "3.8.2"
  }
 },
 "nbformat": 4,
 "nbformat_minor": 1
}

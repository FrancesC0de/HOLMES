{
 "cells": [
  {
   "cell_type": "markdown",
   "metadata": {
    "id": "qnGDFdguLY-T"
   },
   "source": [
    "Import libraries"
   ]
  },
  {
   "cell_type": "code",
   "execution_count": 1,
   "metadata": {
    "id": "x2iRBLIVLYL6"
   },
   "outputs": [],
   "source": [
    "import os\n",
    "import xmltodict\n",
    "import json\n",
    "import nltk\n",
    "from nltk.corpus import wordnet"
   ]
  },
  {
   "cell_type": "markdown",
   "metadata": {
    "id": "k7JnRc4pdFrx"
   },
   "source": [
    "Global variables"
   ]
  },
  {
   "cell_type": "code",
   "execution_count": 2,
   "metadata": {
    "id": "p3oJNObBsoqE"
   },
   "outputs": [],
   "source": [
    "# suffix of the VISA files containing the concepts\n",
    "file_suffix = '_structured_final.us.xml'\n",
    "# all categories\n",
    "file_sel_classes = ['ANIMALS', 'APPLIANCES', 'ARTIFACTS', 'CLOTHING', 'CONTAINER', 'DEVICE', 'FOOD', 'HOME', 'INSTRUMENTS', 'PLANTS', 'STRUCTURES', 'TOOLS', 'TOYS', 'VEHICLES', 'WEAPONS']"
   ]
  },
  {
   "cell_type": "markdown",
   "metadata": {
    "id": "DZxX6zV8dLwY"
   },
   "source": [
    "**Concepts and visible parts extraction**"
   ]
  },
  {
   "cell_type": "markdown",
   "metadata": {
    "id": "mMcAac6LQFVB"
   },
   "source": [
    "Filter out the non-visible parts"
   ]
  },
  {
   "cell_type": "code",
   "execution_count": 3,
   "metadata": {
    "id": "91PC_LhJADyM"
   },
   "outputs": [],
   "source": [
    "# delete the <no_evidence/> lines, i.e. the non-visible parts\n",
    "# write new file(s) w/ only visible parts\n",
    "for file_class in file_sel_classes:\n",
    "  if os.path.isfile('../VISA/new_'+file_class+file_suffix) == False:\n",
    "    with open('../VISA/'+file_class+file_suffix,\"r\") as oldfile, open('../VISA/new_'+file_class+file_suffix, 'w') as newfile:\n",
    "        for line in oldfile:\n",
    "            if '<no_evidence/>' not in line:\n",
    "                newfile.write(line)"
   ]
  },
  {
   "cell_type": "markdown",
   "metadata": {
    "id": "ixXkAGdIQUJP"
   },
   "source": [
    "Record all the concepts belonging to the selected categories"
   ]
  },
  {
   "cell_type": "code",
   "execution_count": 5,
   "metadata": {
    "id": "ia02KSTNwjg5"
   },
   "outputs": [],
   "source": [
    "# function to extract an Holonym and its associated Meronyms\n",
    "def extract_concept(concept, class_parts):\n",
    "  concept_parts_dict = {}\n",
    "  concept_parts_dict['name'] = concept['@name'].split('_')[0]\n",
    "  if class_parts in concept and concept[class_parts] is not None and '#text' in concept[class_parts]:\n",
    "    parts = [p.split('has_')[-1].replace('_', ' ').lstrip('0123456789 ') for p in concept[class_parts]['#text'].split('\\n') if bool(p and p.strip())]\n",
    "    concept_parts_dict['parts'] = parts\n",
    "  elif class_parts in concept and concept[class_parts] is not None and '#text' not in concept[class_parts]:\n",
    "    parts = [p.split('has_')[-1].replace('_', ' ').lstrip('0123456789 ') for p in concept[class_parts].split('\\n') if bool(p and p.strip())]\n",
    "    concept_parts_dict['parts'] = parts\n",
    "  else:\n",
    "    return None\n",
    "  return concept_parts_dict\n",
    "\n",
    "concept_list = []\n",
    "for file_class in file_sel_classes:\n",
    "  class_parts = ('anatomy' if file_class == 'ANIMALS' else ('botany' if (file_class == 'FOOD' or file_class == 'PLANTS') else 'parts'))\n",
    "  with open('../VISA/new_'+file_class+file_suffix,\"r\") as xml_obj:\n",
    "    my_dict = xmltodict.parse(xml_obj.read())\n",
    "    xml_obj.close()\n",
    "  # first look into categoryless concepts\n",
    "  if 'concept' in my_dict['concepts']:\n",
    "    categoryless_list = my_dict['concepts']['concept']\n",
    "    for concept in categoryless_list:\n",
    "      concept_parts_dict = extract_concept(concept, class_parts)\n",
    "      if concept_parts_dict is not None:\n",
    "        concept_list.append(concept_parts_dict)\n",
    "  # look into subcategories, if any\n",
    "  if 'subcategory' in my_dict['concepts']:\n",
    "    subcategories_list = my_dict['concepts']['subcategory']\n",
    "    if isinstance(subcategories_list, list):\n",
    "      concepts_list = []\n",
    "      for subcategory in subcategories_list:\n",
    "        concepts_list.append(subcategory['concept'])\n",
    "      for concepts in concepts_list:\n",
    "        # check if it's already the list of concepts\n",
    "        if isinstance(concepts, list):\n",
    "          for concept in concepts:\n",
    "            concept_parts_dict = extract_concept(concept, class_parts)\n",
    "            if concept_parts_dict is not None:\n",
    "              concept_list.append(concept_parts_dict)\n",
    "        # it's a dict\n",
    "        else:\n",
    "          concept = concepts\n",
    "          concept_parts_dict = extract_concept(concept, class_parts)\n",
    "          if concept_parts_dict is not None:\n",
    "            concept_list.append(concept_parts_dict)\n",
    "    # it's a dict\n",
    "    else:\n",
    "      for concept in subcategories_list['concept']:\n",
    "        concept_parts_dict = extract_concept(concept, class_parts)\n",
    "        if concept_parts_dict is not None:\n",
    "          concept_list.append(concept_parts_dict)"
   ]
  },
  {
   "cell_type": "markdown",
   "metadata": {
    "id": "HPyuBHr8cCVJ"
   },
   "source": [
    "Setup wordnet"
   ]
  },
  {
   "cell_type": "code",
   "execution_count": null,
   "metadata": {
    "colab": {
     "base_uri": "https://localhost:8080/"
    },
    "id": "2KUK1KhQciFh",
    "outputId": "41735a57-a88c-43f0-d1bd-d8e5daf88c60",
    "scrolled": true
   },
   "outputs": [],
   "source": [
    "nltk.download('wordnet')"
   ]
  },
  {
   "cell_type": "markdown",
   "metadata": {
    "id": "CACIoyuZdk3-"
   },
   "source": [
    "Load the Wordnet-ImageNet mappings"
   ]
  },
  {
   "cell_type": "code",
   "execution_count": 8,
   "metadata": {
    "id": "VK1_Qa7MSzJc"
   },
   "outputs": [],
   "source": [
    "with open('../VISA/mapping.json') as json_file: \n",
    "    wn_mappings = json.load(json_file)"
   ]
  },
  {
   "cell_type": "markdown",
   "metadata": {
    "id": "E2ipwYgieBgb"
   },
   "source": [
    "Check the classes in common with Imagenet"
   ]
  },
  {
   "cell_type": "code",
   "execution_count": 9,
   "metadata": {
    "id": "FAPvId2NffGU"
   },
   "outputs": [],
   "source": [
    "# for each concept extracted, store the name and the associated synsets\n",
    "visa_label_synsets_list = []\n",
    "for concept in concept_list:\n",
    "  name = concept['name']\n",
    "  parts = concept['parts']\n",
    "  syns = wordnet.synsets(name)\n",
    "  visa_label_synsets_list.append({'label': name, 'syns': syns, 'parts': parts})\n",
    "\n",
    "# for each Imagenet class, store the name and the associated synset\n",
    "imagenet_label_synset_list = []\n",
    "for id_label_uri_dict in wn_mappings.values():\n",
    "  id = id_label_uri_dict['id'].split('-')[0]\n",
    "  label = id_label_uri_dict['label']\n",
    "  syn = wordnet.synset_from_pos_and_offset('n', int(id))\n",
    "  imagenet_label_synset_list.append({'label': label, 'syn': syn})\n",
    "\n",
    "imagenet_visa_list = []\n",
    "# Arabian camel, ...\n",
    "for imagenet_label_synset in imagenet_label_synset_list:\n",
    "  h_count = 0\n",
    "  found = False\n",
    "  imagenet_label = imagenet_label_synset['label']\n",
    "  imagenet_synset = imagenet_label_synset['syn']\n",
    "  # go up to the third upper hypernym\n",
    "  while found == False and h_count < 3:\n",
    "    # check if the current imagenet synset is contained in one of the extracted synsets, and save the associated extracted class\n",
    "    for visa_label_synsets in visa_label_synsets_list:\n",
    "      if found == True:\n",
    "        h_count = 0\n",
    "      visa_label = visa_label_synsets['label']\n",
    "      visa_synsets = visa_label_synsets['syns']\n",
    "      visa_parts = visa_label_synsets['parts']\n",
    "      # I've more than one hypernyms\n",
    "      if isinstance(imagenet_synset, list):\n",
    "        hypernym_synsets = imagenet_synset\n",
    "        for hypernym_synset in hypernym_synsets:\n",
    "          if hypernym_synset in visa_synsets:\n",
    "            imagenet_visa_list.append({'label': imagenet_label, 'visa_label': visa_label, 'parts': visa_parts, 'depth': h_count})\n",
    "            found = True\n",
    "            break\n",
    "      # I've a single synset, either original class or hypernym\n",
    "      else:  \n",
    "        if imagenet_synset in visa_synsets:\n",
    "          imagenet_visa_list.append({'label': imagenet_label, 'visa_label': visa_label, 'parts': visa_parts, 'depth': h_count})\n",
    "          found = True\n",
    "    # if an associated synset is not found, consider the hypernym(s)\n",
    "    if found == False:\n",
    "      if isinstance(imagenet_synset, list):\n",
    "        imagenet_synset = imagenet_synset[0]\n",
    "      imagenet_synset = imagenet_synset.hypernyms()\n",
    "      h_count +=1\n",
    "  if found == False:\n",
    "    imagenet_visa_list.append({'label': imagenet_label, 'visa_label': None, 'parts': None, 'depth': h_count})\n",
    "\n",
    "found_imagenet_visa_list = [concept for concept in imagenet_visa_list if concept['visa_label'] is not None]"
   ]
  },
  {
   "cell_type": "markdown",
   "metadata": {
    "id": "xY6laHPoUp8E"
   },
   "source": [
    "Remove duplicate concepts "
   ]
  },
  {
   "cell_type": "code",
   "execution_count": 10,
   "metadata": {
    "id": "yiteltBHRbe8"
   },
   "outputs": [],
   "source": [
    "nodup_imagenet_visa_dict = {}\n",
    "for concept in found_imagenet_visa_list:\n",
    "  label = concept['label']\n",
    "  if label not in nodup_imagenet_visa_dict:\n",
    "    nodup_imagenet_visa_dict[label] = concept\n",
    "  else:\n",
    "    if concept['depth'] < nodup_imagenet_visa_dict[label]['depth']:\n",
    "      nodup_imagenet_visa_dict[label] = concept\n",
    "found_imagenet_visa_list = list(nodup_imagenet_visa_dict.values()) "
   ]
  },
  {
   "cell_type": "code",
   "execution_count": 11,
   "metadata": {
    "id": "Stuhiod6WEXq"
   },
   "outputs": [],
   "source": [
    "#for c in found_imagenet_visa_list:\n",
    "  #print(c)"
   ]
  },
  {
   "cell_type": "markdown",
   "metadata": {
    "id": "khDrcTKImU_e"
   },
   "source": [
    "Hyper-meronyms and hypo-meroynms"
   ]
  },
  {
   "cell_type": "code",
   "execution_count": 12,
   "metadata": {
    "id": "Kki4xbjsmZZQ"
   },
   "outputs": [],
   "source": [
    "# among the matching concepts, divide them into subcategories for the sake of visualization\n",
    "sel_labels_dict = {\n",
    "    # animals\n",
    "    'ungulates': ['bison', 'buffalo', 'bull', 'calf', 'camel', 'caribou', 'cow', 'deer', 'donkey', 'elk', 'fawn', 'giraffe', 'goat', 'horse', 'lamb', 'moose', 'ox', 'pig', 'pony', 'sheep', 'zebra'],\n",
    "    'felines': ['cat', 'cheetah', 'cougar', 'leopard', 'lion', 'panther', 'tiger'],\n",
    "    'reptiles': ['alligator', 'iguana', 'python', 'rattlesnake', 'tortoise', 'turtle'],\n",
    "    # appliances\n",
    "    'kitchen appliances': ['blender', 'dishwasher', 'freezer', 'fridge', 'microwave', 'mixer', 'oven', 'stove', 'toaster'],\n",
    "    # tools\n",
    "    'tools': ['anchor', 'axe', 'bolts', 'broom', 'brush', 'chisel', 'clamp', 'crowbar', 'drill', 'fork', 'hammer', 'hatchet', 'hoe', 'hook', 'level', 'peg', 'pliers', 'rake', 'scissors',\n",
    "              'screwdriver', 'screws', 'shovel', 'sledgehammer', 'spade', 'tomahawk', 'tongs', 'wrench'],\n",
    "    # vehicles\n",
    "    'aircraft': ['airplane', 'baloon', 'helicopter', 'jet'],\n",
    "    'wheeled vehicle': ['ambulance', 'bike', 'tricyle', 'trolley', 'truck', 'unicycle', 'van', 'wagon', 'wheelbarrow', 'buggy', 'bus', 'car', 'cart', 'dunebuggy', 'jeep', 'limousine', 'motorcycle',\n",
    "                        'scooter', 'taxi', 'tractor', 'trailer'],\n",
    "}\n",
    "\n",
    "# define Hyper-meronyms and hypo-meronyms\n",
    "hyper_hypo_mer_dict = {\n",
    "    'head': ['jaws', 'snout', 'horns', 'eyes', 'ears', 'beard', 'hair', 'nose', 'mouth', 'tongue', 'whiskers', 'teeth', 'mane', 'comb', 'powerful jaws', 'neck', 'edge', 'blade'],\n",
    "    'feet': ['paws', 'toes', 'claws'],\n",
    "    'tail': ['rattle on tail', 'curly tail'],\n",
    "    'fur': ['wool'],\n",
    "    'flat head': ['slots'],\n",
    "    'contoured head': ['blade'],\n",
    "    'blade': ['edge', 'scoop'],\n",
    "    'nose': ['cabin', 'windshield', 'windshield wiper'], \n",
    "    'fins': ['rudder'],\n",
    "    'windows': ['windshield', 'windshield wiper', 'tinted windows'],\n",
    "    'roof': ['sign on roof'],\n",
    "    'light': ['flashing lights'],\n",
    "    'handlebar': ['bell'],\n",
    "    'wheels': ['spokes'],\n",
    "    'door': ['handle', 'glass panel'],\n",
    "    'handlebar': ['handle', 'bell']\n",
    "}"
   ]
  },
  {
   "cell_type": "markdown",
   "metadata": {
    "id": "Iis4O5BbiNFm"
   },
   "source": [
    "Display final Holonyms and Meronyms extracted"
   ]
  },
  {
   "cell_type": "code",
   "execution_count": 13,
   "metadata": {
    "colab": {
     "base_uri": "https://localhost:8080/"
    },
    "id": "dVWXMv0WrrFv",
    "outputId": "7bdf923a-03f2-4b3f-8dc7-13411bbe8b9b"
   },
   "outputs": [
    {
     "name": "stdout",
     "output_type": "stream",
     "text": [
      "ungulates\n",
      "{'label': 'sorrel', 'visa_label': 'horse', 'parts': ['tail', 'legs', 'fur', 'hooves', 'feet', 'head'], 'depth': 1}\n",
      "{'label': 'zebra', 'visa_label': 'zebra', 'parts': ['tail', 'legs', 'fur', 'hooves', 'feet', 'head'], 'depth': 0}\n",
      "{'label': 'hog, pig, grunter, squealer, Sus scrofa', 'visa_label': 'pig', 'parts': ['tail', 'legs', 'feet', 'hooves', 'fur', 'udder', 'head'], 'depth': 0}\n",
      "{'label': 'ox', 'visa_label': 'ox', 'parts': ['tail', 'legs', 'feet', 'hooves', 'fur', 'dewlap', 'head'], 'depth': 0}\n",
      "{'label': 'water buffalo, water ox, Asiatic buffalo, Bubalus bubalis', 'visa_label': 'buffalo', 'parts': ['hump', 'tail', 'legs', 'fur', 'hooves', 'feet', 'head'], 'depth': 1}\n",
      "{'label': 'bison', 'visa_label': 'bison', 'parts': ['hump', 'tail', 'legs', 'fur', 'hooves', 'feet', 'head'], 'depth': 0}\n",
      "{'label': 'ram, tup', 'visa_label': 'sheep', 'parts': ['legs', 'feet', 'fur', 'hooves', 'head'], 'depth': 1}\n",
      "{'label': 'ibex, Capra ibex', 'visa_label': 'goat', 'parts': ['tail', 'legs', 'feet', 'fur', 'hooves', 'head'], 'depth': 2}\n",
      "{'label': 'Arabian camel, dromedary, Camelus dromedarius', 'visa_label': 'camel', 'parts': ['long neck', 'tail', 'legs', 'hooves', 'feet', 'fur', 'hump', 'head'], 'depth': 1}\n",
      "9\n",
      "\n",
      "felines\n",
      "{'label': 'tabby, tabby cat', 'visa_label': 'cat', 'parts': ['head', 'tail', 'legs', 'fur', 'feet'], 'depth': 2}\n",
      "{'label': 'tiger cat', 'visa_label': 'cat', 'parts': ['head', 'tail', 'legs', 'fur', 'feet'], 'depth': 2}\n",
      "{'label': 'Persian cat', 'visa_label': 'cat', 'parts': ['head', 'tail', 'legs', 'fur', 'feet'], 'depth': 2}\n",
      "{'label': 'Siamese cat, Siamese', 'visa_label': 'cat', 'parts': ['head', 'tail', 'legs', 'fur', 'feet'], 'depth': 2}\n",
      "{'label': 'Egyptian cat', 'visa_label': 'cat', 'parts': ['head', 'tail', 'legs', 'fur', 'feet'], 'depth': 2}\n",
      "{'label': 'cougar, puma, catamount, mountain lion, painter, panther, Felis concolor', 'visa_label': 'cougar', 'parts': ['head', 'tail', 'legs', 'feet', 'fur'], 'depth': 0}\n",
      "{'label': 'lynx, catamount', 'visa_label': 'cat', 'parts': ['head', 'tail', 'legs', 'fur', 'feet'], 'depth': 2}\n",
      "{'label': 'leopard, Panthera pardus', 'visa_label': 'leopard', 'parts': ['tail', 'legs', 'feet', 'head', 'fur'], 'depth': 0}\n",
      "{'label': 'snow leopard, ounce, Panthera uncia', 'visa_label': 'cat', 'parts': ['head', 'tail', 'legs', 'fur', 'feet'], 'depth': 1}\n",
      "{'label': 'jaguar, panther, Panthera onca, Felis onca', 'visa_label': 'panther', 'parts': ['head', 'tail', 'legs', 'feet', 'fur'], 'depth': 0}\n",
      "{'label': 'lion, king of beasts, Panthera leo', 'visa_label': 'lion', 'parts': ['head', 'tail', 'legs', 'feet', 'fur'], 'depth': 0}\n",
      "{'label': 'tiger, Panthera tigris', 'visa_label': 'tiger', 'parts': ['head', 'tail', 'legs', 'feet', 'fur', 'ruff'], 'depth': 0}\n",
      "{'label': 'cheetah, chetah, Acinonyx jubatus', 'visa_label': 'cheetah', 'parts': ['head', 'tail', 'legs', 'fur', 'feet'], 'depth': 0}\n",
      "13\n",
      "\n",
      "reptiles\n",
      "{'label': 'loggerhead, loggerhead turtle, Caretta caretta', 'visa_label': 'turtle', 'parts': ['scales', 'shell', 'tail', 'head', 'flippers'], 'depth': 2}\n",
      "{'label': 'leatherback turtle, leatherback, leathery turtle, Dermochelys coriacea', 'visa_label': 'turtle', 'parts': ['scales', 'shell', 'tail', 'head', 'flippers'], 'depth': 2}\n",
      "{'label': 'mud turtle', 'visa_label': 'turtle', 'parts': ['scales', 'shell', 'tail', 'head', 'flippers'], 'depth': 1}\n",
      "{'label': 'terrapin', 'visa_label': 'turtle', 'parts': ['scales', 'shell', 'tail', 'head', 'flippers'], 'depth': 1}\n",
      "{'label': 'box turtle, box tortoise', 'visa_label': 'turtle', 'parts': ['scales', 'shell', 'tail', 'head', 'flippers'], 'depth': 1}\n",
      "{'label': 'common iguana, iguana, Iguana iguana', 'visa_label': 'iguana', 'parts': ['scales', 'legs', 'feet', 'head', 'dewlap', 'tail'], 'depth': 0}\n",
      "{'label': 'American alligator, Alligator mississipiensis', 'visa_label': 'alligator', 'parts': ['legs', 'feet', 'head', 'tail', 'scales'], 'depth': 1}\n",
      "{'label': 'rock python, rock snake, Python sebae', 'visa_label': 'python', 'parts': ['scales', 'head'], 'depth': 1}\n",
      "{'label': 'diamondback, diamondback rattlesnake, Crotalus adamanteus', 'visa_label': 'rattlesnake', 'parts': ['scales', 'tail', 'head'], 'depth': 1}\n",
      "{'label': 'sidewinder, horned rattlesnake, Crotalus cerastes', 'visa_label': 'rattlesnake', 'parts': ['scales', 'tail', 'head'], 'depth': 1}\n",
      "10\n",
      "\n",
      "kitchen appliances\n",
      "{'label': 'dishwasher, dish washer, dishwashing machine', 'visa_label': 'dishwasher', 'parts': ['racks', 'push-buttons', 'knob', 'door'], 'depth': 0}\n",
      "{'label': 'Dutch oven', 'visa_label': 'oven', 'parts': ['knob', 'racks', 'door'], 'depth': 1}\n",
      "{'label': 'microwave, microwave oven', 'visa_label': 'microwave', 'parts': ['push-buttons', 'monitor', 'door'], 'depth': 0}\n",
      "{'label': 'rotisserie', 'visa_label': 'oven', 'parts': ['knob', 'racks', 'door'], 'depth': 1}\n",
      "{'label': 'stove', 'visa_label': 'stove', 'parts': ['knob', 'door', 'oven', 'racks', 'hob on top'], 'depth': 0}\n",
      "{'label': 'toaster', 'visa_label': 'toaster', 'parts': ['push-buttons', 'knob', 'slots', 'lever'], 'depth': 0}\n",
      "6\n",
      "\n",
      "tools\n",
      "{'label': 'broom', 'visa_label': 'broom', 'parts': ['handle', 'bristles'], 'depth': 0}\n",
      "{'label': 'hammer', 'visa_label': 'hammer', 'parts': ['head', 'handle'], 'depth': 0}\n",
      "{'label': 'hatchet', 'visa_label': 'hatchet', 'parts': ['handle', 'head'], 'depth': 0}\n",
      "{'label': 'power drill', 'visa_label': 'drill', 'parts': ['trigger', 'handle', 'threads', 'enclosure'], 'depth': 1}\n",
      "{'label': 'screw', 'visa_label': 'screws', 'parts': ['flat head', 'threads'], 'depth': 0}\n",
      "{'label': 'screwdriver', 'visa_label': 'screwdriver', 'parts': ['handle', 'shaft', 'contoured head'], 'depth': 0}\n",
      "{'label': 'shovel', 'visa_label': 'shovel', 'parts': ['handle', 'shaft', 'blade'], 'depth': 0}\n",
      "7\n",
      "\n",
      "aircraft\n",
      "{'label': 'airliner', 'visa_label': 'airplane', 'parts': ['nose', 'windows', 'wheels', 'turbines', 'door', 'wings', 'fins', 'propeller', 'tail'], 'depth': 1}\n",
      "1\n",
      "\n",
      "wheeled vehicle\n",
      "{'label': 'ambulance', 'visa_label': 'ambulance', 'parts': ['coachwork', 'bumper', 'siren', 'windows', 'cargo space', 'wheels', 'door', 'number plate', 'mirror', 'bonnet', 'light', 'roof'], 'depth': 0}\n",
      "{'label': 'barrow, garden cart, lawn cart, wheelbarrow', 'visa_label': 'wheelbarrow', 'parts': ['handle', 'draw bar', 'wheels', 'container'], 'depth': 0}\n",
      "{'label': 'beach wagon, station wagon, wagon, estate car, beach waggon, station waggon, waggon', 'visa_label': 'wagon', 'parts': ['handle', 'draw bar', 'seat', 'wheels', 'container'], 'depth': 0}\n",
      "{'label': 'bicycle-built-for-two, tandem bicycle, tandem', 'visa_label': 'bike', 'parts': ['step-through frame', 'fork', 'wheels', 'chain', 'gears', 'handlebar', 'brakes', 'seat', 'pedals'], 'depth': 0}\n",
      "{'label': 'cab, hack, taxi, taxicab', 'visa_label': 'taxi', 'parts': ['coachwork', 'bumper', 'wheels', 'door', 'windows', 'roof', 'bonnet', 'light', 'trunk', 'mirror', 'number plate'], 'depth': 0}\n",
      "{'label': 'convertible', 'visa_label': 'car', 'parts': ['wheels', 'steering wheel', 'windows', 'mirror', 'light', 'number plate', 'bonnet', 'trunk', 'roof', 'bumper', 'door', 'belts'], 'depth': 1}\n",
      "{'label': 'fire engine, fire truck', 'visa_label': 'truck', 'parts': ['coachwork', 'windows', 'wheels', 'bumper', 'mirror', 'number plate', 'bonnet', 'light', 'cabin', 'trailer', 'container', 'door', 'roof'], 'depth': 1}\n",
      "{'label': 'freight car', 'visa_label': 'car', 'parts': ['wheels', 'steering wheel', 'windows', 'mirror', 'light', 'number plate', 'bonnet', 'trunk', 'roof', 'bumper', 'door', 'belts'], 'depth': 1}\n",
      "{'label': 'garbage truck, dustcart', 'visa_label': 'truck', 'parts': ['coachwork', 'windows', 'wheels', 'bumper', 'mirror', 'number plate', 'bonnet', 'light', 'cabin', 'trailer', 'container', 'door', 'roof'], 'depth': 1}\n",
      "{'label': 'horse cart, horse-cart', 'visa_label': 'cart', 'parts': ['frame', 'wheels', 'container', 'handlebar'], 'depth': 1}\n",
      "{'label': 'jeep, landrover', 'visa_label': 'jeep', 'parts': ['coachwork', 'wheels', 'steering wheel', 'windows', 'roof', 'light', 'mirror', 'number plate', 'trunk', 'bonnet', 'spare tire', 'bumper', 'door'], 'depth': 0}\n",
      "{'label': 'jinrikisha, ricksha, rickshaw', 'visa_label': 'cart', 'parts': ['frame', 'wheels', 'container', 'handlebar'], 'depth': 1}\n",
      "{'label': 'limousine, limo', 'visa_label': 'limousine', 'parts': ['number plate', 'coachwork', 'bumper', 'windows', 'door', 'wheels', 'bonnet', 'light', 'roof', 'trunk', 'mirror'], 'depth': 0}\n",
      "{'label': 'minibus', 'visa_label': 'bus', 'parts': ['coachwork', 'bumper', 'windows', 'wheels', 'mirror', 'light', 'door', 'roof', 'number plate'], 'depth': 1}\n",
      "{'label': 'minivan', 'visa_label': 'car', 'parts': ['wheels', 'steering wheel', 'windows', 'mirror', 'light', 'number plate', 'bonnet', 'trunk', 'roof', 'bumper', 'door', 'belts'], 'depth': 1}\n",
      "{'label': 'mobile home, manufactured home', 'visa_label': 'trailer', 'parts': ['windows', 'roof', 'wheels', 'draw bar', 'door'], 'depth': 1}\n",
      "{'label': 'Model T', 'visa_label': 'car', 'parts': ['wheels', 'steering wheel', 'windows', 'mirror', 'light', 'number plate', 'bonnet', 'trunk', 'roof', 'bumper', 'door', 'belts'], 'depth': 1}\n",
      "{'label': 'moped', 'visa_label': 'motorcycle', 'parts': ['frame', 'seat', 'wheels', 'light', 'exhaust pipe', 'stand', 'mudguard', 'handlebar', 'tank', 'windshield', 'mirror'], 'depth': 0}\n",
      "{'label': 'motor scooter, scooter', 'visa_label': 'scooter', 'parts': ['step-through frame', 'seat', 'wheels', 'mirror', 'brakes', 'light', 'exhaust pipe', 'stand', 'mudguard', 'handlebar', 'floorboard'], 'depth': 0}\n",
      "{'label': 'mountain bike, all-terrain bike, off-roader', 'visa_label': 'bike', 'parts': ['step-through frame', 'fork', 'wheels', 'chain', 'gears', 'handlebar', 'brakes', 'seat', 'pedals'], 'depth': 0}\n",
      "{'label': 'moving van', 'visa_label': 'van', 'parts': ['coachwork', 'windows', 'roof', 'wheels', 'bonnet', 'light', 'mirror', 'number plate', 'bumper', 'cargo space', 'door', 'bonnet'], 'depth': 1}\n",
      "{'label': 'oxcart', 'visa_label': 'cart', 'parts': ['frame', 'wheels', 'container', 'handlebar'], 'depth': 1}\n",
      "{'label': 'passenger car, coach, carriage', 'visa_label': 'car', 'parts': ['wheels', 'steering wheel', 'windows', 'mirror', 'light', 'number plate', 'bonnet', 'trunk', 'roof', 'bumper', 'door', 'belts'], 'depth': 1}\n",
      "{'label': 'pickup, pickup truck', 'visa_label': 'truck', 'parts': ['coachwork', 'windows', 'wheels', 'bumper', 'mirror', 'number plate', 'bonnet', 'light', 'cabin', 'trailer', 'container', 'door', 'roof'], 'depth': 1}\n",
      "{'label': 'police van, police wagon, paddy wagon, patrol wagon, wagon, black Maria', 'visa_label': 'wagon', 'parts': ['handle', 'draw bar', 'seat', 'wheels', 'container'], 'depth': 0}\n",
      "{'label': 'racer, race car, racing car', 'visa_label': 'car', 'parts': ['wheels', 'steering wheel', 'windows', 'mirror', 'light', 'number plate', 'bonnet', 'trunk', 'roof', 'bumper', 'door', 'belts'], 'depth': 1}\n",
      "{'label': 'school bus', 'visa_label': 'bus', 'parts': ['coachwork', 'bumper', 'windows', 'wheels', 'mirror', 'light', 'door', 'roof', 'number plate'], 'depth': 1}\n",
      "{'label': 'shopping cart', 'visa_label': 'cart', 'parts': ['frame', 'wheels', 'container', 'handlebar'], 'depth': 1}\n",
      "{'label': 'sports car, sport car', 'visa_label': 'car', 'parts': ['wheels', 'steering wheel', 'windows', 'mirror', 'light', 'number plate', 'bonnet', 'trunk', 'roof', 'bumper', 'door', 'belts'], 'depth': 1}\n",
      "{'label': 'streetcar, tram, tramcar, trolley, trolley car', 'visa_label': 'trolley', 'parts': ['handlebar', 'wheels', 'platform'], 'depth': 0}\n",
      "{'label': 'tow truck, tow car, wrecker', 'visa_label': 'truck', 'parts': ['coachwork', 'windows', 'wheels', 'bumper', 'mirror', 'number plate', 'bonnet', 'light', 'cabin', 'trailer', 'container', 'door', 'roof'], 'depth': 1}\n",
      "{'label': 'tractor', 'visa_label': 'tractor', 'parts': ['coachwork', 'bumper', 'wheels', 'steering wheel', 'light', 'bonnet', 'brakes', 'loader', 'seat'], 'depth': 0}\n",
      "{'label': 'trailer truck, tractor trailer, trucking rig, rig, articulated lorry, semi', 'visa_label': 'truck', 'parts': ['coachwork', 'windows', 'wheels', 'bumper', 'mirror', 'number plate', 'bonnet', 'light', 'cabin', 'trailer', 'container', 'door', 'roof'], 'depth': 1}\n",
      "{'label': 'trolleybus, trolley coach, trackless trolley', 'visa_label': 'bus', 'parts': ['coachwork', 'bumper', 'windows', 'wheels', 'mirror', 'light', 'door', 'roof', 'number plate'], 'depth': 1}\n",
      "{'label': 'unicycle, monocycle', 'visa_label': 'unicycle', 'parts': ['seat', 'wheel', 'frame', 'fork', 'pedals'], 'depth': 0}\n",
      "35\n",
      "\n",
      "81\n"
     ]
    }
   ],
   "source": [
    "category_concept_dict = {}\n",
    "tot_len = 0\n",
    "for sel_label in sel_labels_dict.keys():\n",
    "  print(sel_label)\n",
    "  category_concept_dict[sel_label] = []\n",
    "  for concept in found_imagenet_visa_list:\n",
    "    if concept['visa_label'] in sel_labels_dict[sel_label]:\n",
    "      label = concept['label']\n",
    "      visa_label = concept['visa_label']\n",
    "      depth = concept['depth']\n",
    "      parts = concept['parts']\n",
    "      for hyper, hypos in hyper_hypo_mer_dict.items():\n",
    "        parts = [p for p in parts if not (hyper in parts and p in hypos) and p != visa_label]\n",
    "      if len(parts)>1:\n",
    "        concept_dict = {'label' : label, 'visa_label': visa_label, 'parts': parts, 'depth': depth}\n",
    "        category_concept_dict[sel_label].append(concept_dict)\n",
    "        print(concept_dict)\n",
    "  len_category = len(category_concept_dict[sel_label])\n",
    "  tot_len += len_category\n",
    "  print(len_category)\n",
    "  print()\n",
    "print(tot_len)"
   ]
  },
  {
   "cell_type": "markdown",
   "metadata": {
    "id": "lPvlO60LG097"
   },
   "source": [
    "Misassigned: beach wagon, police van (corrected afterwards)"
   ]
  }
 ],
 "metadata": {
  "colab": {
   "collapsed_sections": [],
   "name": "Meronyms_Extraction.ipynb",
   "provenance": []
  },
  "kernelspec": {
   "display_name": "Python 3",
   "language": "python",
   "name": "python3"
  },
  "language_info": {
   "codemirror_mode": {
    "name": "ipython",
    "version": 3
   },
   "file_extension": ".py",
   "mimetype": "text/x-python",
   "name": "python",
   "nbconvert_exporter": "python",
   "pygments_lexer": "ipython3",
   "version": "3.8.2"
  }
 },
 "nbformat": 4,
 "nbformat_minor": 1
}

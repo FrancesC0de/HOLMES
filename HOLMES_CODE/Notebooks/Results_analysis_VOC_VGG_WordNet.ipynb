{
 "cells": [
  {
   "cell_type": "markdown",
   "metadata": {
    "id": "rg5l3jZ-9J5Y"
   },
   "source": [
    "Import libraries"
   ]
  },
  {
   "cell_type": "code",
   "execution_count": 3,
   "metadata": {
    "id": "XTRVh8zH9Ir5"
   },
   "outputs": [],
   "source": [
    "import os\n",
    "import json\n",
    "import numpy as np\n",
    "import seaborn as sns\n",
    "import matplotlib.pyplot as plt\n",
    "from matplotlib.lines import Line2D\n",
    "from matplotlib.patches import Patch\n",
    "import plotly.graph_objs as go\n",
    "from IPython.display import Image"
   ]
  },
  {
   "cell_type": "code",
   "execution_count": 9,
   "metadata": {},
   "outputs": [
    {
     "name": "stderr",
     "output_type": "stream",
     "text": [
      "[nltk_data] Downloading package wordnet to\n",
      "[nltk_data]     C:\\Users\\Francesco\\AppData\\Roaming\\nltk_data...\n",
      "[nltk_data]   Package wordnet is already up-to-date!\n"
     ]
    },
    {
     "data": {
      "text/plain": [
       "True"
      ]
     },
     "execution_count": 9,
     "metadata": {},
     "output_type": "execute_result"
    }
   ],
   "source": [
    "import nltk\n",
    "from nltk.corpus import wordnet as wn\n",
    "nltk.download('wordnet')"
   ]
  },
  {
   "cell_type": "code",
   "execution_count": 47,
   "metadata": {},
   "outputs": [],
   "source": [
    "wn_sysnets ={'Horse': wn.synset('horse.n.01'),\n",
    "             'Cat': wn.synset('cat.n.01'),\n",
    "             'Bird': wn.synset('bird.n.01'),\n",
    "             'Cow': wn.synset('bovid.n.01'),\n",
    "             'Dog': wn.synset('dog.n.01'),\n",
    "             'Sheep': wn.synset('sheep.n.01'),\n",
    "             'Aeroplane': wn.synset('airplane.n.01'),\n",
    "             'Bicycle': wn.synset('bicycle.n.01'),\n",
    "             'Bottle': wn.synset('bottle.n.01'),\n",
    "             'Bus': wn.synset('bus.n.01'),\n",
    "             'Car': wn.synset('car.n.01'),\n",
    "             'Motorbike': wn.synset('motorcycle.n.01'),\n",
    "             'Train': wn.synset('train.n.01')}\n",
    "\n",
    "MAX_LVL = 5"
   ]
  },
  {
   "cell_type": "markdown",
   "metadata": {
    "id": "MdC1BIPyCwfh"
   },
   "source": [
    "**EVALUATION**"
   ]
  },
  {
   "cell_type": "markdown",
   "metadata": {
    "id": "VRvLpthRxRh8"
   },
   "source": [
    "**Load the ROCAUC values and analyze them**"
   ]
  },
  {
   "cell_type": "code",
   "execution_count": 49,
   "metadata": {
    "cellView": "form",
    "id": "DPRCLJHECzGi"
   },
   "outputs": [],
   "source": [
    "#@title\n",
    "# load the ROCAUC curves results\n",
    "with open('../VOC_vgg16_evaluation.json') as json_file: \n",
    "  eval_dict = json.load(json_file)\n",
    "\n",
    "# intermediate dictionaries to record\n",
    "holmes_auc_dict = {}\n",
    "gradcam_auc_dict = {}\n",
    "ratio_auc_dict = {}\n",
    "pred_class_dict = {}\n",
    "holonym_parts_dict = {}\n",
    "num_pred_dict = {}\n",
    "\n",
    "# other dictionaries\n",
    "overall_holonym_auc_dict = {}\n",
    "\n",
    "for i, holonym in enumerate(list(eval_dict.keys())):\n",
    "  if holonym not in wn_sysnets:\n",
    "    continue\n",
    "  holonym_dict = eval_dict[holonym]      # holonym class dict\n",
    "  holonym_parts = eval_dict[holonym]['parts']     # holonym parts\n",
    "  holonym_parts_dict[holonym] = holonym_parts\n",
    "  holonym_img_names = eval_dict[holonym]['stats'].keys() # VOC validation images for the holonym\n",
    "\n",
    "  for j, img_name in enumerate(holonym_img_names):\n",
    "    if j == 0:\n",
    "        holmes_auc_dict[holonym] = []\n",
    "        gradcam_auc_dict[holonym] = []\n",
    "        ratio_auc_dict[holonym] = []\n",
    "        pred_class_dict[holonym] = []\n",
    "        num_pred_dict[holonym] = 0\n",
    "    elif j>=50:\n",
    "      break\n",
    "    \n",
    "    img_pred_class = holonym_dict['stats'][img_name]['pred_class']\n",
    "\n",
    "    # list of pred values\n",
    "    pred_class_dict[holonym].append(img_pred_class)\n",
    "    # check if the hyponym prediction can be mapped to a holonym\n",
    "    # first extract the predicted class synsets\n",
    "    syns = wn.synsets(img_pred_class.replace(\" \", \"_\"))\n",
    "    #print(\"{} -> {}\".format(img_pred_class, syns))\n",
    "    # iterate on each synset\n",
    "    found = 0\n",
    "    for syn in syns:\n",
    "        # look for the holonym as an hypernym up to a certain hierarchy level\n",
    "        for lvl in range(MAX_LVL):\n",
    "            if syn == wn_sysnets[holonym]:\n",
    "                # found\n",
    "                found = 1\n",
    "                break\n",
    "            else:\n",
    "                # climb up the hierarchy\n",
    "                hypernyms = syn.hypernyms()\n",
    "                if not hypernyms:\n",
    "                    break\n",
    "                syn = hypernyms[0]    \n",
    "\n",
    "        if found == 1:\n",
    "            break\n",
    "    if found == 0:\n",
    "        continue\n",
    "    #print(\"{} -> {}\".format(img_pred_class, syn))\n",
    "    \n",
    "    num_pred_dict[holonym] += 1\n",
    "    \n",
    "    img_per_part_holmes_auc = holonym_dict['stats'][img_name]['HOLMES_AUCs']\n",
    "    # list of list of aucs\n",
    "    holmes_auc_dict[holonym].append(img_per_part_holmes_auc)\n",
    "    \n",
    "    img_per_part_gradcam_auc = holonym_dict['stats'][img_name]['GRADCAM_AUCs']\n",
    "    # list of list of aucs\n",
    "    gradcam_auc_dict[holonym].append(img_per_part_gradcam_auc)\n",
    "    \n",
    "    # list of list of auc ratios\n",
    "    ratio_auc_dict[holonym].append([auc1 / auc2 for auc1, auc2 in zip(img_per_part_holmes_auc, img_per_part_gradcam_auc)])\n",
    "    \n",
    "  average_ratio_auc_per_holonym_meronym_dict = {k:np.mean(v, axis=0) for k,v in ratio_auc_dict.items()}\n",
    "\n",
    "  average_ratio_auc_per_holonym_dict = {k:np.mean(v, axis=None) for k,v in ratio_auc_dict.items()}"
   ]
  },
  {
   "cell_type": "code",
   "execution_count": 50,
   "metadata": {},
   "outputs": [
    {
     "data": {
      "text/plain": [
       "{'Horse': 17,\n",
       " 'Cat': 25,\n",
       " 'Bird': 35,\n",
       " 'Cow': 36,\n",
       " 'Dog': 37,\n",
       " 'Sheep': 25,\n",
       " 'Aeroplane': 33,\n",
       " 'Bicycle': 24,\n",
       " 'Bottle': 4,\n",
       " 'Bus': 33,\n",
       " 'Car': 25,\n",
       " 'Motorbike': 5,\n",
       " 'Train': 2}"
      ]
     },
     "execution_count": 50,
     "metadata": {},
     "output_type": "execute_result"
    }
   ],
   "source": [
    "num_pred_dict"
   ]
  },
  {
   "cell_type": "code",
   "execution_count": 51,
   "metadata": {
    "scrolled": true
   },
   "outputs": [
    {
     "data": {
      "text/plain": [
       "{'Horse': 1.3459849989649795,\n",
       " 'Cat': 1.2243129860641888,\n",
       " 'Bird': 1.9674253280841705,\n",
       " 'Cow': 2.2680329850213488,\n",
       " 'Dog': 1.5114268878905508,\n",
       " 'Sheep': 1.4710175940705386,\n",
       " 'Aeroplane': 1.1637459617875023,\n",
       " 'Bicycle': 2.537180101491437,\n",
       " 'Bottle': 1.759033788502818,\n",
       " 'Bus': 1.565451334287713,\n",
       " 'Car': 1.5759602312294412,\n",
       " 'Motorbike': 1.979134913273834,\n",
       " 'Train': 1.5146475233559862}"
      ]
     },
     "execution_count": 51,
     "metadata": {},
     "output_type": "execute_result"
    }
   ],
   "source": [
    "average_ratio_auc_per_holonym_dict"
   ]
  },
  {
   "cell_type": "code",
   "execution_count": 52,
   "metadata": {},
   "outputs": [
    {
     "data": {
      "text/plain": [
       "{'Horse': ['Head', 'Leg', 'Tail', 'Torso'],\n",
       " 'Cat': ['Head', 'Leg', 'Tail', 'Torso'],\n",
       " 'Bird': ['Head', 'Leg', 'Tail', 'Torso'],\n",
       " 'Cow': ['Head', 'Horn', 'Leg', 'Torso'],\n",
       " 'Dog': ['Head', 'Leg', 'Tail', 'Torso'],\n",
       " 'Sheep': ['Head', 'Leg', 'Torso'],\n",
       " 'Aeroplane': ['Artifact_Wing', 'Body', 'Engine', 'Stern', 'Wheel'],\n",
       " 'Bicycle': ['Handlebar', 'Saddle', 'Wheel'],\n",
       " 'Bottle': ['Body', 'Cap'],\n",
       " 'Bus': ['Bodywork',\n",
       "  'Door',\n",
       "  'Headlight',\n",
       "  'License_plate',\n",
       "  'Mirror',\n",
       "  'Wheel',\n",
       "  'Window'],\n",
       " 'Car': ['Bodywork',\n",
       "  'Door',\n",
       "  'Headlight',\n",
       "  'License_plate',\n",
       "  'Mirror',\n",
       "  'Wheel',\n",
       "  'Window'],\n",
       " 'Motorbike': ['Handlebar', 'Headlight', 'Saddle', 'Wheel'],\n",
       " 'Train': ['Coach', 'Headlight', 'Locomotive']}"
      ]
     },
     "execution_count": 52,
     "metadata": {},
     "output_type": "execute_result"
    }
   ],
   "source": [
    "holonym_parts_dict"
   ]
  },
  {
   "cell_type": "code",
   "execution_count": 53,
   "metadata": {},
   "outputs": [
    {
     "data": {
      "text/plain": [
       "{'Horse': array([1.59396154, 1.18991931, 1.3367582 , 1.26330094]),\n",
       " 'Cat': array([1.17381455, 1.14980827, 1.51490689, 1.05872224]),\n",
       " 'Bird': array([1.45129377, 1.35984265, 3.73757431, 1.32099058]),\n",
       " 'Cow': array([2.82156465, 2.76609883, 2.2683349 , 1.21613356]),\n",
       " 'Dog': array([1.85246702, 1.12085499, 1.35308719, 1.71929835]),\n",
       " 'Sheep': array([2.04660997, 1.05535271, 1.3110901 ]),\n",
       " 'Aeroplane': array([0.76148385, 1.13064959, 1.79473657, 1.4061344 , 0.7257254 ]),\n",
       " 'Bicycle': array([2.41611383, 3.65398373, 1.54144275]),\n",
       " 'Bottle': array([1.22617696, 2.29189062]),\n",
       " 'Bus': array([1.33712582, 1.21010753, 1.21309762, 2.79299896, 1.13751841,\n",
       "        2.13843714, 1.12887386]),\n",
       " 'Car': array([1.24397746, 1.36177053, 1.93169188, 1.66555421, 1.35963651,\n",
       "        1.85909661, 1.60999441]),\n",
       " 'Motorbike': array([3.62125014, 1.56257886, 0.85464777, 1.87806288]),\n",
       " 'Train': array([1.03401629, 2.16375918, 1.34616709])}"
      ]
     },
     "execution_count": 53,
     "metadata": {},
     "output_type": "execute_result"
    }
   ],
   "source": [
    "average_ratio_auc_per_holonym_meronym_dict"
   ]
  },
  {
   "cell_type": "code",
   "execution_count": 56,
   "metadata": {
    "scrolled": false
   },
   "outputs": [],
   "source": [
    "#set([holonym for holonym in pred_class_dict['Train'] if holonym not in holonym_mappings_dict['Train']])"
   ]
  },
  {
   "cell_type": "code",
   "execution_count": null,
   "metadata": {},
   "outputs": [],
   "source": [
    "#pred_class_dict['Train']"
   ]
  },
  {
   "cell_type": "code",
   "execution_count": null,
   "metadata": {},
   "outputs": [],
   "source": []
  },
  {
   "cell_type": "code",
   "execution_count": null,
   "metadata": {},
   "outputs": [],
   "source": []
  }
 ],
 "metadata": {
  "colab": {
   "collapsed_sections": [],
   "name": "Results_analysis.ipynb",
   "provenance": []
  },
  "kernelspec": {
   "display_name": "Python 3",
   "language": "python",
   "name": "python3"
  },
  "language_info": {
   "codemirror_mode": {
    "name": "ipython",
    "version": 3
   },
   "file_extension": ".py",
   "mimetype": "text/x-python",
   "name": "python",
   "nbconvert_exporter": "python",
   "pygments_lexer": "ipython3",
   "version": "3.8.2"
  }
 },
 "nbformat": 4,
 "nbformat_minor": 1
}
